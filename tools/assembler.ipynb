{
 "cells": [
  {
   "cell_type": "code",
   "execution_count": 33,
   "id": "0569a0eb",
   "metadata": {},
   "outputs": [
    {
     "name": "stdout",
     "output_type": "stream",
     "text": [
      "[ 30  60 118  29 224 240  78  29  47  77  96   0   1   0   3   5]\n",
      "INIT_RAM_00 => X\"0000000000000000000000000000000503000100604D2F1D4EF0E01D763C1E\"\n"
     ]
    }
   ],
   "source": [
    "import numpy as np\n",
    "MAX_MEMORY = 16\n",
    "\n",
    "def assemble(program):\n",
    "    machine_code = np.zeros(MAX_MEMORY, dtype=np.uint8)\n",
    "    i=0\n",
    "    for line in program:\n",
    "        line = line.strip()\n",
    "        if line == \"\":\n",
    "            continue\n",
    "        if line.startswith(\";\"):\n",
    "            continue\n",
    "            \n",
    "        #Setting variables/constants in memory\n",
    "        if line.startswith(\"VAR\"):\n",
    "            parts = line.split()\n",
    "            address = int(parts[1])\n",
    "            value = int(parts[2])\n",
    "            if (address>=MAX_MEMORY):\n",
    "                raise Exception(\"Variable exceeds memory size at line : \" + line)\n",
    "            machine_code[address] = value\n",
    "            continue\n",
    "            \n",
    "        #instructions to machine code\n",
    "        parts = line.split()\n",
    "        opcode = parts[0]\n",
    "        if opcode == \"LDA\":\n",
    "            address = int(parts[1])\n",
    "            machine_code[i]=(( 1 << 4 | address))\n",
    "        elif opcode == \"ADD\":\n",
    "            address = int(parts[1])\n",
    "            machine_code[i]=((2 << 4  | address))\n",
    "        elif opcode == \"SUB\":\n",
    "            address = int(parts[1])\n",
    "            machine_code[i]=((3 << 4  | address))\n",
    "        elif opcode == \"STA\":\n",
    "            address = int(parts[1])\n",
    "            machine_code[i]=((4 << 4  | address))\n",
    "        elif opcode == \"LDI\":\n",
    "            address = int(parts[1])\n",
    "            machine_code[i]=((5 << 4  | address))\n",
    "        elif opcode == \"JMP\":\n",
    "            address = int(parts[1])\n",
    "            machine_code[i]=((6 << 4  | address))\n",
    "        elif opcode == \"JC\":\n",
    "            address = int(parts[1])\n",
    "            machine_code[i]=((7 << 4  | address))\n",
    "        elif opcode == \"JZ\":\n",
    "            address = int(parts[1])\n",
    "            machine_code[i]=((8 << 4  | address))\n",
    "        elif opcode == \"OUT\":\n",
    "            machine_code[i]=((14 << 4))\n",
    "        elif opcode == \"HLT\":\n",
    "            machine_code[i]=((15 << 4))\n",
    "        else:\n",
    "            raise Exception(\"Unknown opcode: \" + opcode)\n",
    "        i=i+1\n",
    "    return machine_code\n",
    "\n",
    "def reverse_hex_no_0x(byte_list):\n",
    "    hex_str = ''.join(format(b, '02X') for b in reversed(byte_list))\n",
    "    return hex_str\n",
    "\n",
    "def main():\n",
    "    with open(\"assembly_program_example.txt\", \"r\") as file:\n",
    "        program = file.readlines()\n",
    "    machine_code = assemble(program)\n",
    "    print(machine_code)\n",
    "    print(\"INIT_RAM_00 => X\\\"000000000000000000000000000000\" + str(reverse_hex_no_0x(machine_code))+\"\\\"\")\n",
    "\n",
    "if __name__ == \"__main__\":\n",
    "    main()"
   ]
  },
  {
   "cell_type": "code",
   "execution_count": null,
   "id": "b73e7538",
   "metadata": {},
   "outputs": [],
   "source": []
  }
 ],
 "metadata": {
  "kernelspec": {
   "display_name": "Python 3 (ipykernel)",
   "language": "python",
   "name": "python3"
  },
  "language_info": {
   "codemirror_mode": {
    "name": "ipython",
    "version": 3
   },
   "file_extension": ".py",
   "mimetype": "text/x-python",
   "name": "python",
   "nbconvert_exporter": "python",
   "pygments_lexer": "ipython3",
   "version": "3.9.13"
  }
 },
 "nbformat": 4,
 "nbformat_minor": 5
}
